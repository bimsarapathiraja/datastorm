{
  "nbformat": 4,
  "nbformat_minor": 0,
  "metadata": {
    "colab": {
      "name": "day3.ipynb",
      "provenance": [],
      "collapsed_sections": [],
      "include_colab_link": true
    },
    "kernelspec": {
      "name": "python3",
      "display_name": "Python 3"
    },
    "accelerator": "GPU"
  },
  "cells": [
    {
      "cell_type": "markdown",
      "metadata": {
        "id": "view-in-github",
        "colab_type": "text"
      },
      "source": [
        "<a href=\"https://colab.research.google.com/github/bimsarapathiraja/datastorm/blob/master/day3/lgbm.ipynb\" target=\"_parent\"><img src=\"https://colab.research.google.com/assets/colab-badge.svg\" alt=\"Open In Colab\"/></a>"
      ]
    },
    {
      "cell_type": "code",
      "metadata": {
        "id": "ZLGQKgfKkKfi",
        "colab_type": "code",
        "outputId": "528918da-f8da-4245-e824-a02f60bac3d4",
        "colab": {
          "base_uri": "https://localhost:8080/",
          "height": 126
        }
      },
      "source": [
        "from google.colab import drive\n",
        "drive.mount('/content/gdrive') #mounting gdrive   "
      ],
      "execution_count": 0,
      "outputs": [
        {
          "output_type": "stream",
          "text": [
            "Go to this URL in a browser: https://accounts.google.com/o/oauth2/auth?client_id=947318989803-6bn6qk8qdgf4n4g3pfee6491hc0brc4i.apps.googleusercontent.com&redirect_uri=urn%3aietf%3awg%3aoauth%3a2.0%3aoob&response_type=code&scope=email%20https%3a%2f%2fwww.googleapis.com%2fauth%2fdocs.test%20https%3a%2f%2fwww.googleapis.com%2fauth%2fdrive%20https%3a%2f%2fwww.googleapis.com%2fauth%2fdrive.photos.readonly%20https%3a%2f%2fwww.googleapis.com%2fauth%2fpeopleapi.readonly\n",
            "\n",
            "Enter your authorization code:\n",
            "··········\n",
            "Mounted at /content/gdrive\n"
          ],
          "name": "stdout"
        }
      ]
    },
    {
      "cell_type": "code",
      "metadata": {
        "id": "fRl1XLSnlQpg",
        "colab_type": "code",
        "outputId": "78bb9c15-a837-4c79-b76f-2b0b968d5afd",
        "colab": {
          "base_uri": "https://localhost:8080/",
          "height": 35
        }
      },
      "source": [
        "cd gdrive/My\\ Drive"
      ],
      "execution_count": 0,
      "outputs": [
        {
          "output_type": "stream",
          "text": [
            "/content/gdrive/My Drive\n"
          ],
          "name": "stdout"
        }
      ]
    },
    {
      "cell_type": "code",
      "metadata": {
        "id": "MlXoQSCQlSls",
        "colab_type": "code",
        "colab": {}
      },
      "source": [
        ""
      ],
      "execution_count": 0,
      "outputs": []
    },
    {
      "cell_type": "code",
      "metadata": {
        "id": "RiPtsiDiJXxi",
        "colab_type": "code",
        "colab": {}
      },
      "source": [
        "import numpy as np\n",
        "import pandas as pd\n",
        "\n",
        "from sklearn import preprocessing\n",
        "from sklearn.preprocessing import MinMaxScaler, StandardScaler,Normalizer #Normalizer scaler was the best option"
      ],
      "execution_count": 0,
      "outputs": []
    },
    {
      "cell_type": "code",
      "metadata": {
        "id": "gO34XHdzMXlL",
        "colab_type": "code",
        "colab": {}
      },
      "source": [
        "data = pd.read_csv('data-storm-10/credit_card_default_train.csv') #loading the training dataset"
      ],
      "execution_count": 0,
      "outputs": []
    },
    {
      "cell_type": "code",
      "metadata": {
        "id": "OgJEPYiWMdfB",
        "colab_type": "code",
        "colab": {}
      },
      "source": [
        "X = data.drop('NEXT_MONTH_DEFAULT', 1)\n",
        "y = data['NEXT_MONTH_DEFAULT']\n",
        "\n",
        "X = X.drop('Client_ID', 1)\n",
        "\n",
        "xdata = pd.read_csv('data-storm-10/credit_card_default_test.csv')\n",
        "test = xdata.drop('Client_ID', 1)\n",
        "test_id = xdata['Client_ID']"
      ],
      "execution_count": 0,
      "outputs": []
    },
    {
      "cell_type": "code",
      "metadata": {
        "id": "4dMWjbnzMhZ0",
        "colab_type": "code",
        "outputId": "4ec7ab59-7bc3-461e-89ed-3a186b5bd554",
        "colab": {
          "base_uri": "https://localhost:8080/",
          "height": 35
        }
      },
      "source": [
        "data_comp = X.append(test) #combining training and test\n",
        "data_comp.shape"
      ],
      "execution_count": 0,
      "outputs": [
        {
          "output_type": "execute_result",
          "data": {
            "text/plain": [
              "(30000, 23)"
            ]
          },
          "metadata": {
            "tags": []
          },
          "execution_count": 8
        }
      ]
    },
    {
      "cell_type": "code",
      "metadata": {
        "id": "vrcA64kVMiyq",
        "colab_type": "code",
        "colab": {}
      },
      "source": [
        "data_comp['Balance_Limit_V1'] = data_comp['Balance_Limit_V1'].map({'100K': 100000, '200K': 200000, '300K': 300000, '400K': 400000, ' 500K': 500000, '1M': 1000000, '1.5M': 1500000, '2.5M': 2500000})\n",
        "#mapping values"
      ],
      "execution_count": 0,
      "outputs": []
    },
    {
      "cell_type": "code",
      "metadata": {
        "id": "x-ptDYkyMlN0",
        "colab_type": "code",
        "colab": {}
      },
      "source": [
        "data_comp[['Balance_Limit_V1', 'PAY_JULY', 'PAY_AUG', 'PAY_SEP', 'PAY_OCT', 'PAY_NOV',\n",
        "       'PAY_DEC', 'DUE_AMT_JULY', 'DUE_AMT_AUG', 'DUE_AMT_SEP', 'DUE_AMT_OCT',\n",
        "       'DUE_AMT_NOV', 'DUE_AMT_DEC', 'PAID_AMT_JULY', 'PAID_AMT_AUG',\n",
        "       'PAID_AMT_SEP', 'PAID_AMT_OCT', 'PAID_AMT_NOV', 'PAID_AMT_DEC']] = preprocessing.scale(data_comp[['Balance_Limit_V1', 'PAY_JULY', 'PAY_AUG', 'PAY_SEP', 'PAY_OCT', 'PAY_NOV',\n",
        "       'PAY_DEC', 'DUE_AMT_JULY', 'DUE_AMT_AUG', 'DUE_AMT_SEP', 'DUE_AMT_OCT',\n",
        "       'DUE_AMT_NOV', 'DUE_AMT_DEC', 'PAID_AMT_JULY', 'PAID_AMT_AUG',\n",
        "       'PAID_AMT_SEP', 'PAID_AMT_OCT', 'PAID_AMT_NOV', 'PAID_AMT_DEC']]) #scaling"
      ],
      "execution_count": 0,
      "outputs": []
    },
    {
      "cell_type": "code",
      "metadata": {
        "id": "Kac6ja8DMolM",
        "colab_type": "code",
        "colab": {}
      },
      "source": [
        "data_comp = pd.get_dummies(data_comp,columns=['Gender', 'EDUCATION_STATUS', 'MARITAL_STATUS',\n",
        "       'AGE']) #one hot encoding"
      ],
      "execution_count": 0,
      "outputs": []
    },
    {
      "cell_type": "code",
      "metadata": {
        "id": "Po6qZ9JmM5r4",
        "colab_type": "code",
        "colab": {}
      },
      "source": [
        "def find_correlation(data, threshold=0.85): #removing correlated rows > 0.85\n",
        "    corr_mat = data.corr()\n",
        "    corr_mat.loc[:, :] = np.tril(corr_mat, k=-1)\n",
        "    already_in = set()\n",
        "    result = []\n",
        "    for col in corr_mat:\n",
        "        perfect_corr = corr_mat[col][abs(corr_mat[col])> threshold].index.tolist()\n",
        "        if perfect_corr and col not in already_in:\n",
        "            already_in.update(set(perfect_corr))\n",
        "            perfect_corr.append(col)\n",
        "            result.append(perfect_corr)\n",
        "    select_nested = [f[1:] for f in result]\n",
        "    select_flat = [i for j in select_nested for i in j]\n",
        "    return select_flat"
      ],
      "execution_count": 0,
      "outputs": []
    },
    {
      "cell_type": "code",
      "metadata": {
        "id": "ENay7GWsNADk",
        "colab_type": "code",
        "outputId": "5e8957b4-e509-40d1-d703-cfc8258ec065",
        "colab": {
          "base_uri": "https://localhost:8080/",
          "height": 35
        }
      },
      "source": [
        "columns_to_drop = find_correlation(data_comp , 0.85)\n",
        "print(columns_to_drop)\n",
        "data_comp = data_comp.drop(columns=columns_to_drop) # columns are dropped"
      ],
      "execution_count": 0,
      "outputs": [
        {
          "output_type": "stream",
          "text": [
            "['DUE_AMT_SEP', 'DUE_AMT_OCT', 'DUE_AMT_JULY', 'DUE_AMT_NOV', 'Gender_F', 'MARITAL_STATUS_Other']\n"
          ],
          "name": "stdout"
        }
      ]
    },
    {
      "cell_type": "code",
      "metadata": {
        "id": "GY4jrYmCMr99",
        "colab_type": "code",
        "colab": {}
      },
      "source": [
        "X = data_comp.iloc[:len(X)]\n",
        "test = data_comp.iloc[len(X):] "
      ],
      "execution_count": 0,
      "outputs": []
    },
    {
      "cell_type": "code",
      "metadata": {
        "id": "QAOosehXqltj",
        "colab_type": "code",
        "outputId": "db86ced3-9588-489f-eedb-e91fd4be5026",
        "colab": {
          "base_uri": "https://localhost:8080/",
          "height": 35
        }
      },
      "source": [
        "X.shape"
      ],
      "execution_count": 0,
      "outputs": [
        {
          "output_type": "execute_result",
          "data": {
            "text/plain": [
              "(24000, 24)"
            ]
          },
          "metadata": {
            "tags": []
          },
          "execution_count": 27
        }
      ]
    },
    {
      "cell_type": "code",
      "metadata": {
        "id": "zEhiTHOQQz8o",
        "colab_type": "code",
        "colab": {}
      },
      "source": [
        "from sklearn.model_selection import train_test_split\n",
        "X_train, X_test, y_train, y_test = train_test_split(X, y, test_size = .2) #train test dataset splitting"
      ],
      "execution_count": 0,
      "outputs": []
    },
    {
      "cell_type": "code",
      "metadata": {
        "id": "7phDM4FyMwAX",
        "colab_type": "code",
        "outputId": "297c8161-e365-4a14-f9ff-9185bb38d507",
        "colab": {
          "base_uri": "https://localhost:8080/",
          "height": 178
        }
      },
      "source": [
        "from sklearn.linear_model import LogisticRegression #trying different models\n",
        "from sklearn.tree import DecisionTreeClassifier\n",
        "from sklearn.ensemble import RandomForestClassifier\n",
        "from sklearn.ensemble import GradientBoostingClassifier\n",
        "from sklearn.ensemble import AdaBoostClassifier\n",
        "from sklearn.ensemble import ExtraTreesClassifier\n",
        "from sklearn.neighbors import KNeighborsClassifier\n",
        "from sklearn.svm import SVC\n",
        "from sklearn.naive_bayes import GaussianNB\n",
        "#from sklearn.model_selection import KFold\n",
        "from sklearn.metrics import accuracy_score\n",
        "\n",
        "classifiers=[['Logistic Regression :',LogisticRegression(max_iter = 1500)],\n",
        "       ['Decision Tree Classification :',DecisionTreeClassifier()],\n",
        "       ['Gradient Boosting Classification :', GradientBoostingClassifier()],\n",
        "       ['Ada Boosting Classification :',AdaBoostClassifier()],\n",
        "       ['RandomForest Classification :',AdaBoostClassifier()],\n",
        "       ['Extra Tree Classification :', ExtraTreesClassifier()],\n",
        "       ['K-Neighbors Classification :',KNeighborsClassifier()],\n",
        "       ['Support Vector Classification :',SVC()],\n",
        "       ['Gaussian Naive Bayes :',GaussianNB()]]\n",
        "cla_pred=[]\n",
        "for name,model in classifiers:\n",
        "    model=model\n",
        "    model.fit(X_train,y_train)\n",
        "    predictions = model.predict(X_test)\n",
        "    cla_pred.append(accuracy_score(y_test,predictions))\n",
        "    print(name,accuracy_score(y_test,predictions))"
      ],
      "execution_count": 0,
      "outputs": [
        {
          "output_type": "stream",
          "text": [
            "Logistic Regression : 0.8160416666666667\n",
            "Decision Tree Classification : 0.7197916666666667\n",
            "Gradient Boosting Classification : 0.8252083333333333\n",
            "Ada Boosting Classification : 0.8254166666666667\n",
            "RandomForest Classification : 0.8254166666666667\n",
            "Extra Tree Classification : 0.8027083333333334\n",
            "K-Neighbors Classification : 0.7925\n",
            "Support Vector Classification : 0.8220833333333334\n",
            "Gaussian Naive Bayes : 0.6560416666666666\n"
          ],
          "name": "stdout"
        }
      ]
    },
    {
      "cell_type": "code",
      "metadata": {
        "id": "-0d6AKC5NCdV",
        "colab_type": "code",
        "colab": {}
      },
      "source": [
        "#LGBMClassifier\n",
        "\n",
        "from sklearn.model_selection import StratifiedKFold\n",
        "from lightgbm import LGBMClassifier\n",
        "\n",
        "from sklearn.metrics import accuracy_score, classification_report, confusion_matrix\n",
        "\n",
        "def lgbm_evaluate(**params):\n",
        "#     warnings.simplefilter('ignore')\n",
        "    \n",
        "    params['num_leaves'] = int(params['num_leaves'])\n",
        "    params['max_depth'] = int(params['max_depth'])\n",
        "        \n",
        "    clf = LGBMClassifier(**params, n_estimators=20000, nthread=-1)\n",
        "\n",
        "    test_pred_proba = np.zeros((X_train.shape[0], 2))\n",
        "    \n",
        "    for n_fold, (train_idx, valid_idx) in enumerate(folds.split(X_train, y_train)):\n",
        "        X_train_bo, X_valid = X_train.iloc[train_idx], X_train.iloc[valid_idx]\n",
        "        y_train_bo, y_valid = y_train.iloc[train_idx], y_train.iloc[valid_idx]\n",
        "        \n",
        "        model = LGBMClassifier(**params, n_estimators = 10000, n_jobs = -1)\n",
        "        model.fit(X_train_bo, y_train_bo, \n",
        "                eval_set=[(X_train_bo, y_train_bo), (X_valid, y_valid)], eval_metric='binary_logloss',\n",
        "                verbose=False, early_stopping_rounds=200)\n",
        "\n",
        "        y_pred_valid = model.predict_proba(X_valid)\n",
        "\n",
        "        test_pred_proba[valid_idx] = y_pred_valid\n",
        "\n",
        "    return accuracy_score(y_valid, y_pred_valid.argmax(1))"
      ],
      "execution_count": 0,
      "outputs": []
    },
    {
      "cell_type": "code",
      "metadata": {
        "id": "2hQImVRzOLLR",
        "colab_type": "code",
        "outputId": "4334da82-65b0-416b-8994-3b102de68ce9",
        "colab": {
          "base_uri": "https://localhost:8080/",
          "height": 249
        }
      },
      "source": [
        "#hyper parameter tuning\n",
        "params = {'colsample_bytree': (0.6, 1),\n",
        "     'learning_rate': (.001, .08), \n",
        "      'num_leaves': (8, 124), \n",
        "      'subsample': (0.6, 1), \n",
        "      'max_depth': (3, 25), \n",
        "      'reg_alpha': (.05, 15.0), \n",
        "      'reg_lambda': (.05, 15.0), \n",
        "      'min_split_gain': (.001, .03),\n",
        "      'min_child_weight': (12, 80)}\n",
        "\n",
        "from sklearn.model_selection import StratifiedKFold\n",
        "n_fold = 20\n",
        "folds = StratifiedKFold(n_splits=n_fold, shuffle=True, random_state=11)\n",
        "\n",
        "from bayes_opt import BayesianOptimization\n",
        "bo = BayesianOptimization(lgbm_evaluate, params)\n",
        "bo.maximize(init_points=5, n_iter=5)"
      ],
      "execution_count": 0,
      "outputs": [
        {
          "output_type": "stream",
          "text": [
            "|   iter    |  target   | colsam... | learni... | max_depth | min_ch... | min_sp... | num_le... | reg_alpha | reg_la... | subsample |\n",
            "-------------------------------------------------------------------------------------------------------------------------------------\n",
            "| \u001b[0m 1       \u001b[0m | \u001b[0m 0.8292  \u001b[0m | \u001b[0m 0.9571  \u001b[0m | \u001b[0m 0.01499 \u001b[0m | \u001b[0m 9.261   \u001b[0m | \u001b[0m 76.82   \u001b[0m | \u001b[0m 0.02275 \u001b[0m | \u001b[0m 32.33   \u001b[0m | \u001b[0m 0.7073  \u001b[0m | \u001b[0m 4.773   \u001b[0m | \u001b[0m 0.8926  \u001b[0m |\n",
            "| \u001b[95m 2       \u001b[0m | \u001b[95m 0.8344  \u001b[0m | \u001b[95m 0.826   \u001b[0m | \u001b[95m 0.03198 \u001b[0m | \u001b[95m 20.51   \u001b[0m | \u001b[95m 76.84   \u001b[0m | \u001b[95m 0.02918 \u001b[0m | \u001b[95m 69.39   \u001b[0m | \u001b[95m 14.94   \u001b[0m | \u001b[95m 10.9    \u001b[0m | \u001b[95m 0.7892  \u001b[0m |\n",
            "| \u001b[0m 3       \u001b[0m | \u001b[0m 0.8344  \u001b[0m | \u001b[0m 0.8477  \u001b[0m | \u001b[0m 0.01537 \u001b[0m | \u001b[0m 14.3    \u001b[0m | \u001b[0m 59.86   \u001b[0m | \u001b[0m 0.001263\u001b[0m | \u001b[0m 86.84   \u001b[0m | \u001b[0m 11.31   \u001b[0m | \u001b[0m 11.67   \u001b[0m | \u001b[0m 0.76    \u001b[0m |\n",
            "| \u001b[0m 4       \u001b[0m | \u001b[0m 0.8292  \u001b[0m | \u001b[0m 0.721   \u001b[0m | \u001b[0m 0.03523 \u001b[0m | \u001b[0m 12.55   \u001b[0m | \u001b[0m 50.48   \u001b[0m | \u001b[0m 0.009645\u001b[0m | \u001b[0m 21.43   \u001b[0m | \u001b[0m 3.242   \u001b[0m | \u001b[0m 8.533   \u001b[0m | \u001b[0m 0.7408  \u001b[0m |\n",
            "| \u001b[0m 5       \u001b[0m | \u001b[0m 0.8302  \u001b[0m | \u001b[0m 0.7722  \u001b[0m | \u001b[0m 0.06408 \u001b[0m | \u001b[0m 14.42   \u001b[0m | \u001b[0m 53.68   \u001b[0m | \u001b[0m 0.01189 \u001b[0m | \u001b[0m 77.8    \u001b[0m | \u001b[0m 12.93   \u001b[0m | \u001b[0m 14.23   \u001b[0m | \u001b[0m 0.9604  \u001b[0m |\n",
            "| \u001b[0m 6       \u001b[0m | \u001b[0m 0.8313  \u001b[0m | \u001b[0m 0.837   \u001b[0m | \u001b[0m 0.0757  \u001b[0m | \u001b[0m 21.54   \u001b[0m | \u001b[0m 79.94   \u001b[0m | \u001b[0m 0.004043\u001b[0m | \u001b[0m 123.1   \u001b[0m | \u001b[0m 3.031   \u001b[0m | \u001b[0m 0.3146  \u001b[0m | \u001b[0m 0.9647  \u001b[0m |\n",
            "| \u001b[0m 7       \u001b[0m | \u001b[0m 0.8323  \u001b[0m | \u001b[0m 0.6853  \u001b[0m | \u001b[0m 0.03062 \u001b[0m | \u001b[0m 4.967   \u001b[0m | \u001b[0m 78.92   \u001b[0m | \u001b[0m 0.009021\u001b[0m | \u001b[0m 121.0   \u001b[0m | \u001b[0m 14.71   \u001b[0m | \u001b[0m 14.61   \u001b[0m | \u001b[0m 0.827   \u001b[0m |\n",
            "| \u001b[0m 8       \u001b[0m | \u001b[0m 0.8292  \u001b[0m | \u001b[0m 0.763   \u001b[0m | \u001b[0m 0.05176 \u001b[0m | \u001b[0m 23.77   \u001b[0m | \u001b[0m 12.1    \u001b[0m | \u001b[0m 0.02404 \u001b[0m | \u001b[0m 118.3   \u001b[0m | \u001b[0m 14.87   \u001b[0m | \u001b[0m 2.69    \u001b[0m | \u001b[0m 0.895   \u001b[0m |\n",
            "| \u001b[0m 9       \u001b[0m | \u001b[0m 0.8302  \u001b[0m | \u001b[0m 0.9543  \u001b[0m | \u001b[0m 0.06754 \u001b[0m | \u001b[0m 24.79   \u001b[0m | \u001b[0m 79.4    \u001b[0m | \u001b[0m 0.002398\u001b[0m | \u001b[0m 8.513   \u001b[0m | \u001b[0m 13.36   \u001b[0m | \u001b[0m 12.26   \u001b[0m | \u001b[0m 0.9372  \u001b[0m |\n",
            "| \u001b[0m 10      \u001b[0m | \u001b[0m 0.8333  \u001b[0m | \u001b[0m 0.9959  \u001b[0m | \u001b[0m 0.06141 \u001b[0m | \u001b[0m 24.33   \u001b[0m | \u001b[0m 79.74   \u001b[0m | \u001b[0m 0.00384 \u001b[0m | \u001b[0m 120.7   \u001b[0m | \u001b[0m 14.94   \u001b[0m | \u001b[0m 13.01   \u001b[0m | \u001b[0m 0.8535  \u001b[0m |\n",
            "=====================================================================================================================================\n"
          ],
          "name": "stdout"
        }
      ]
    },
    {
      "cell_type": "code",
      "metadata": {
        "id": "5KbKW-KdORCe",
        "colab_type": "code",
        "colab": {}
      },
      "source": [
        "params = {'num_leaves': int(bo.max['params']['num_leaves']), #parameter finding\n",
        "          'min_data_in_leaf': int(bo.max['params']['min_child_weight']),\n",
        "          'min_split_gain': bo.max['params']['min_split_gain'],\n",
        "          'objective': 'binary',\n",
        "          'max_depth': int(bo.max['params']['max_depth']),\n",
        "          'learning_rate': bo.max['params']['learning_rate'],\n",
        "          \"boosting\": \"gbdt\",\n",
        "          \"bagging_freq\": 5,\n",
        "          \"bagging_fraction\": bo.max['params']['subsample'],\n",
        "          \"bagging_seed\": 11,\n",
        "          \"verbosity\": -1,\n",
        "          'reg_alpha': bo.max['params']['reg_alpha'],\n",
        "          'reg_lambda': bo.max['params']['reg_lambda'],\n",
        "          \"num_class\": 1,\n",
        "          'nthread': -1\n",
        "         }"
      ],
      "execution_count": 0,
      "outputs": []
    },
    {
      "cell_type": "code",
      "metadata": {
        "id": "kUjpLHx1OR-y",
        "colab_type": "code",
        "outputId": "fc335168-20da-4a1e-f493-7d2530616d34",
        "colab": {
          "base_uri": "https://localhost:8080/",
          "height": 285
        }
      },
      "source": [
        "params\n",
        "\n",
        "# Calculated parameters ------------------------------------------------------------------------------\n",
        "\n",
        "# {'bagging_fraction': 0.7891682295772582,\n",
        "#  'bagging_freq': 5,\n",
        "#  'bagging_seed': 11,\n",
        "#  'boosting': 'gbdt',\n",
        "#  'learning_rate': 0.031982900805891605,\n",
        "#  'max_depth': 20,\n",
        "#  'min_data_in_leaf': 76,\n",
        "#  'min_split_gain': 0.02917582230097086,\n",
        "#  'nthread': -1,\n",
        "#  'num_class': 1,\n",
        "#  'num_leaves': 69,\n",
        "#  'objective': 'binary',\n",
        "#  'reg_alpha': 14.937925929518842,\n",
        "#  'reg_lambda': 10.899395919007185,\n",
        "#  'verbosity': -1}\n",
        "\n",
        "#--------------------------------------------------------------------------------------------------------"
      ],
      "execution_count": 0,
      "outputs": [
        {
          "output_type": "execute_result",
          "data": {
            "text/plain": [
              "{'bagging_fraction': 0.7891682295772582,\n",
              " 'bagging_freq': 5,\n",
              " 'bagging_seed': 11,\n",
              " 'boosting': 'gbdt',\n",
              " 'learning_rate': 0.031982900805891605,\n",
              " 'max_depth': 20,\n",
              " 'min_data_in_leaf': 76,\n",
              " 'min_split_gain': 0.02917582230097086,\n",
              " 'nthread': -1,\n",
              " 'num_class': 1,\n",
              " 'num_leaves': 69,\n",
              " 'objective': 'binary',\n",
              " 'reg_alpha': 14.937925929518842,\n",
              " 'reg_lambda': 10.899395919007185,\n",
              " 'verbosity': -1}"
            ]
          },
          "metadata": {
            "tags": []
          },
          "execution_count": 32
        }
      ]
    },
    {
      "cell_type": "code",
      "metadata": {
        "id": "2Lq2xFt0OY8W",
        "colab_type": "code",
        "outputId": "b926f145-3859-4e26-9bd2-50e4d7c094ef",
        "colab": {
          "base_uri": "https://localhost:8080/",
          "height": 108
        }
      },
      "source": [
        "from lightgbm import LGBMClassifier #model fitting\n",
        "from sklearn.metrics import accuracy_score\n",
        "\n",
        "model = LGBMClassifier(**params, n_estimators = 10000, n_jobs = -1)\n",
        "model.fit(X_train, y_train, \n",
        "        eval_set=[(X_train, y_train), (X_test, y_test)], eval_metric='binary_logloss',\n",
        "        verbose=5000, early_stopping_rounds=4000)\n",
        "\n",
        "predictions = model.predict(X_test)\n",
        "predictions_ = model.predict(X_train)\n",
        "\n",
        "print(accuracy_score(y_test, predictions), accuracy_score(y_train, predictions_))"
      ],
      "execution_count": 0,
      "outputs": [
        {
          "output_type": "stream",
          "text": [
            "Training until validation scores don't improve for 4000 rounds.\n",
            "Early stopping, best iteration is:\n",
            "[188]\ttraining's binary_logloss: 0.412985\ttraining's binary_logloss: 0.412985\tvalid_1's binary_logloss: 0.437175\tvalid_1's binary_logloss: 0.437175\n",
            "0.8127083333333334 0.8246875\n"
          ],
          "name": "stdout"
        }
      ]
    },
    {
      "cell_type": "code",
      "metadata": {
        "id": "KQWS6QdPObVc",
        "colab_type": "code",
        "outputId": "3a4911fd-e701-40d4-8d41-2993f362ff2f",
        "colab": {
          "base_uri": "https://localhost:8080/",
          "height": 231
        }
      },
      "source": [
        "from sklearn.metrics import classification_report,confusion_matrix #evaluating the model\n",
        "print(confusion_matrix(y_test,predictions))\n",
        "print(classification_report(y_test,predictions))\n",
        "print(accuracy_score(y_test,predictions))"
      ],
      "execution_count": 0,
      "outputs": [
        {
          "output_type": "stream",
          "text": [
            "[[3508  197]\n",
            " [ 702  393]]\n",
            "              precision    recall  f1-score   support\n",
            "\n",
            "           0       0.83      0.95      0.89      3705\n",
            "           1       0.67      0.36      0.47      1095\n",
            "\n",
            "    accuracy                           0.81      4800\n",
            "   macro avg       0.75      0.65      0.68      4800\n",
            "weighted avg       0.80      0.81      0.79      4800\n",
            "\n",
            "0.8127083333333334\n"
          ],
          "name": "stdout"
        }
      ]
    },
    {
      "cell_type": "code",
      "metadata": {
        "id": "MugbwyX2Og91",
        "colab_type": "code",
        "outputId": "f1fd4bd1-d61e-4f51-90d2-aa990b0647bd",
        "colab": {
          "base_uri": "https://localhost:8080/",
          "height": 71
        }
      },
      "source": [
        "pred = model.predict(test) #saving predictions\n",
        "submissionlgbm = pd.DataFrame({\n",
        "    'Client_ID': test_id,\n",
        "    'NEXT_MONTH_DEFAULT': pred\n",
        "})\n",
        "print(submissionlgbm.NEXT_MONTH_DEFAULT.value_counts())\n",
        "submissionlgbm.to_csv('submissionlgbm3.csv', index = False)"
      ],
      "execution_count": 0,
      "outputs": [
        {
          "output_type": "stream",
          "text": [
            "0    5330\n",
            "1     670\n",
            "Name: NEXT_MONTH_DEFAULT, dtype: int64\n"
          ],
          "name": "stdout"
        }
      ]
    },
    {
      "cell_type": "code",
      "metadata": {
        "id": "ZoBIuqZwqbON",
        "colab_type": "code",
        "colab": {}
      },
      "source": [
        ""
      ],
      "execution_count": 0,
      "outputs": []
    }
  ]
}