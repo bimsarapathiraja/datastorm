{
  "nbformat": 4,
  "nbformat_minor": 0,
  "metadata": {
    "kernelspec": {
      "name": "python3",
      "display_name": "Python 3"
    },
    "language_info": {
      "codemirror_mode": {
        "name": "ipython",
        "version": 3
      },
      "file_extension": ".py",
      "mimetype": "text/x-python",
      "name": "python",
      "nbconvert_exporter": "python",
      "pygments_lexer": "ipython3",
      "version": "3.7.3"
    },
    "colab": {
      "name": "Adaboost.ipynb",
      "provenance": [],
      "include_colab_link": true
    },
    "accelerator": "GPU"
  },
  "cells": [
    {
      "cell_type": "markdown",
      "metadata": {
        "id": "view-in-github",
        "colab_type": "text"
      },
      "source": [
        "<a href=\"https://colab.research.google.com/github/bimsarapathiraja/datastorm/blob/master/day1/Adaboost.ipynb\" target=\"_parent\"><img src=\"https://colab.research.google.com/assets/colab-badge.svg\" alt=\"Open In Colab\"/></a>"
      ]
    },
    {
      "cell_type": "markdown",
      "metadata": {
        "id": "hiQkwKi3-Z_F",
        "colab_type": "text"
      },
      "source": [
        "## Straight from the Original Dataset"
      ]
    },
    {
      "cell_type": "code",
      "metadata": {
        "id": "kiE1A47w-5cb",
        "colab_type": "code",
        "outputId": "ebbca190-df85-4b9f-f84b-4e4b82d78fb3",
        "colab": {
          "base_uri": "https://localhost:8080/",
          "height": 126
        }
      },
      "source": [
        "from google.colab import drive\n",
        "drive.mount('/content/gdrive') #mounting gdrive   "
      ],
      "execution_count": 1,
      "outputs": [
        {
          "output_type": "stream",
          "text": [
            "Go to this URL in a browser: https://accounts.google.com/o/oauth2/auth?client_id=947318989803-6bn6qk8qdgf4n4g3pfee6491hc0brc4i.apps.googleusercontent.com&redirect_uri=urn%3aietf%3awg%3aoauth%3a2.0%3aoob&response_type=code&scope=email%20https%3a%2f%2fwww.googleapis.com%2fauth%2fdocs.test%20https%3a%2f%2fwww.googleapis.com%2fauth%2fdrive%20https%3a%2f%2fwww.googleapis.com%2fauth%2fdrive.photos.readonly%20https%3a%2f%2fwww.googleapis.com%2fauth%2fpeopleapi.readonly\n",
            "\n",
            "Enter your authorization code:\n",
            "··········\n",
            "Mounted at /content/gdrive\n"
          ],
          "name": "stdout"
        }
      ]
    },
    {
      "cell_type": "code",
      "metadata": {
        "id": "I7l1RUzg_E1Q",
        "colab_type": "code",
        "outputId": "ce00ff88-58bd-47c4-eeb7-c141c6f04e6c",
        "colab": {
          "base_uri": "https://localhost:8080/",
          "height": 35
        }
      },
      "source": [
        "cd gdrive"
      ],
      "execution_count": 2,
      "outputs": [
        {
          "output_type": "stream",
          "text": [
            "/content/gdrive\n"
          ],
          "name": "stdout"
        }
      ]
    },
    {
      "cell_type": "code",
      "metadata": {
        "id": "l_zBgIavA_S2",
        "colab_type": "code",
        "colab": {
          "base_uri": "https://localhost:8080/",
          "height": 35
        },
        "outputId": "1b569ab5-b429-454d-d40a-b5864953674d"
      },
      "source": [
        "cd My\\ Drive"
      ],
      "execution_count": 3,
      "outputs": [
        {
          "output_type": "stream",
          "text": [
            "/content/gdrive/My Drive\n"
          ],
          "name": "stdout"
        }
      ]
    },
    {
      "cell_type": "code",
      "metadata": {
        "id": "3zwFmiyJ-Z_N",
        "colab_type": "code",
        "colab": {}
      },
      "source": [
        "import pandas as pd"
      ],
      "execution_count": 0,
      "outputs": []
    },
    {
      "cell_type": "code",
      "metadata": {
        "id": "fG0fnQTn-Z_j",
        "colab_type": "code",
        "colab": {}
      },
      "source": [
        "training_data = pd.read_csv(\"data-storm-10/training_data_modified.csv\", index_col = 0)\n",
        "test_data = pd.read_csv(\"data-storm-10/test_data_modified.csv\", index_col = 0)"
      ],
      "execution_count": 0,
      "outputs": []
    },
    {
      "cell_type": "code",
      "metadata": {
        "id": "7a2W5Jlw-Z_z",
        "colab_type": "code",
        "colab": {}
      },
      "source": [
        "training_x = training_data.drop('NEXT_MONTH_DEFAULT', 1)\n",
        "training_y = training_data['NEXT_MONTH_DEFAULT']"
      ],
      "execution_count": 0,
      "outputs": []
    },
    {
      "cell_type": "code",
      "metadata": {
        "id": "SEIqBrIX-aAC",
        "colab_type": "code",
        "colab": {}
      },
      "source": [
        "from sklearn.model_selection import train_test_split"
      ],
      "execution_count": 0,
      "outputs": []
    },
    {
      "cell_type": "code",
      "metadata": {
        "id": "PmLh5qCh-aAP",
        "colab_type": "code",
        "colab": {}
      },
      "source": [
        "x_train, x_test, y_train, y_test = train_test_split(training_x, training_y, test_size = 0.2)"
      ],
      "execution_count": 0,
      "outputs": []
    },
    {
      "cell_type": "code",
      "metadata": {
        "id": "00e-sxdK-aAZ",
        "colab_type": "code",
        "outputId": "b8ab77a3-75b8-4698-b82d-b13cfc51f330",
        "colab": {
          "base_uri": "https://localhost:8080/",
          "height": 53
        }
      },
      "source": [
        "from sklearn.ensemble import AdaBoostClassifier\n",
        "from sklearn.tree import DecisionTreeClassifier\n",
        "from sklearn.metrics import classification_report, confusion_matrix, accuracy_score\n",
        "\n",
        "ada_clf = AdaBoostClassifier(\n",
        "             DecisionTreeClassifier(max_depth=9), n_estimators=300,\n",
        "             algorithm=\"SAMME.R\", learning_rate=0.5\n",
        "         )\n",
        "\n",
        "ada_clf.fit(x_train, y_train)\n",
        "y_pred_rf = ada_clf.predict(x_test)\n",
        "accuracy_score(y_test,y_pred_rf)\n",
        "confusion_matrix(y_test,y_pred_rf)"
      ],
      "execution_count": 9,
      "outputs": [
        {
          "output_type": "execute_result",
          "data": {
            "text/plain": [
              "array([[3504,  246],\n",
              "       [ 694,  356]])"
            ]
          },
          "metadata": {
            "tags": []
          },
          "execution_count": 9
        }
      ]
    },
    {
      "cell_type": "code",
      "metadata": {
        "id": "vRKWcxrG-aAj",
        "colab_type": "code",
        "outputId": "c37edc33-e633-483d-cbc7-b1ced5ad4483",
        "colab": {
          "base_uri": "https://localhost:8080/",
          "height": 35
        }
      },
      "source": [
        "accuracy_score(y_test,y_pred_rf)"
      ],
      "execution_count": 10,
      "outputs": [
        {
          "output_type": "execute_result",
          "data": {
            "text/plain": [
              "0.8041666666666667"
            ]
          },
          "metadata": {
            "tags": []
          },
          "execution_count": 10
        }
      ]
    },
    {
      "cell_type": "code",
      "metadata": {
        "id": "Y9vaqIGP-aAr",
        "colab_type": "code",
        "outputId": "8837ea26-d4a3-434a-a181-7ac0b3beff85",
        "colab": {
          "base_uri": "https://localhost:8080/",
          "height": 178
        }
      },
      "source": [
        "print(classification_report(y_test,y_pred_rf))"
      ],
      "execution_count": 11,
      "outputs": [
        {
          "output_type": "stream",
          "text": [
            "              precision    recall  f1-score   support\n",
            "\n",
            "           0       0.83      0.93      0.88      3750\n",
            "           1       0.59      0.34      0.43      1050\n",
            "\n",
            "    accuracy                           0.80      4800\n",
            "   macro avg       0.71      0.64      0.66      4800\n",
            "weighted avg       0.78      0.80      0.78      4800\n",
            "\n"
          ],
          "name": "stdout"
        }
      ]
    },
    {
      "cell_type": "code",
      "metadata": {
        "id": "wuBvFU2T-aEy",
        "colab_type": "code",
        "colab": {}
      },
      "source": [
        ""
      ],
      "execution_count": 0,
      "outputs": []
    }
  ]
}