{
 "cells": [
  {
   "cell_type": "markdown",
   "metadata": {},
   "source": [
    "## Straight from the Original Dataset"
   ]
  },
  {
   "cell_type": "code",
   "execution_count": 1,
   "metadata": {},
   "outputs": [],
   "source": [
    "import pandas as pd"
   ]
  },
  {
   "cell_type": "code",
   "execution_count": 2,
   "metadata": {},
   "outputs": [],
   "source": [
    "training_data = pd.read_csv(\"training_data_modified_fe.csv\", index_col = 0)\n",
    "test_data = pd.read_csv(\"test_data_modified_fe.csv\", index_col = 0)"
   ]
  },
  {
   "cell_type": "raw",
   "metadata": {},
   "source": [
    "from sklearn.preprocessing import MinMaxScaler, StandardScaler\n",
    "scaler = StandardScaler()\n",
    "need_to_standarize = ['Ability_to_pay_AUG', '']\n",
    "training_data[need_to_standarize] = scaler.fit_transform(training_data[need_to_standarize])\n",
    "test_data[need_to_standarize] = scaler.fit_transform(test_data[need_to_standarize])"
   ]
  },
  {
   "cell_type": "code",
   "execution_count": 3,
   "metadata": {},
   "outputs": [],
   "source": [
    "training_x = training_data.drop('NEXT_MONTH_DEFAULT', 1)\n",
    "training_y = training_data['NEXT_MONTH_DEFAULT']"
   ]
  },
  {
   "cell_type": "code",
   "execution_count": 4,
   "metadata": {},
   "outputs": [],
   "source": [
    "from sklearn.model_selection import train_test_split"
   ]
  },
  {
   "cell_type": "code",
   "execution_count": 5,
   "metadata": {},
   "outputs": [],
   "source": [
    "x_train, x_test, y_train, y_test = train_test_split(training_x, training_y, test_size = 0.1)"
   ]
  },
  {
   "cell_type": "code",
   "execution_count": 6,
   "metadata": {},
   "outputs": [
    {
     "data": {
      "text/plain": [
       "array([[1755,  118],\n",
       "       [ 356,  171]], dtype=int64)"
      ]
     },
     "execution_count": 6,
     "metadata": {},
     "output_type": "execute_result"
    }
   ],
   "source": [
    "from sklearn.ensemble import AdaBoostClassifier\n",
    "from sklearn.tree import DecisionTreeClassifier\n",
    "from sklearn.metrics import classification_report, confusion_matrix, accuracy_score\n",
    "\n",
    "ada_clf = AdaBoostClassifier(\n",
    "             DecisionTreeClassifier(max_depth=9), n_estimators=300,\n",
    "             algorithm=\"SAMME.R\", learning_rate=0.5\n",
    "         )\n",
    "\n",
    "ada_clf.fit(x_train, y_train)\n",
    "y_pred_rf = ada_clf.predict(x_test)\n",
    "accuracy_score(y_test,y_pred_rf)\n",
    "confusion_matrix(y_test,y_pred_rf)"
   ]
  },
  {
   "cell_type": "code",
   "execution_count": 7,
   "metadata": {},
   "outputs": [
    {
     "data": {
      "text/plain": [
       "0.8025"
      ]
     },
     "execution_count": 7,
     "metadata": {},
     "output_type": "execute_result"
    }
   ],
   "source": [
    "accuracy_score(y_test,y_pred_rf)"
   ]
  },
  {
   "cell_type": "code",
   "execution_count": 8,
   "metadata": {},
   "outputs": [
    {
     "name": "stdout",
     "output_type": "stream",
     "text": [
      "              precision    recall  f1-score   support\n",
      "\n",
      "           0       0.83      0.94      0.88      1873\n",
      "           1       0.59      0.32      0.42       527\n",
      "\n",
      "    accuracy                           0.80      2400\n",
      "   macro avg       0.71      0.63      0.65      2400\n",
      "weighted avg       0.78      0.80      0.78      2400\n",
      "\n"
     ]
    }
   ],
   "source": [
    "print(classification_report(y_test,y_pred_rf))"
   ]
  },
  {
   "cell_type": "markdown",
   "metadata": {},
   "source": [
    " ## Two-way Method"
   ]
  },
  {
   "cell_type": "code",
   "execution_count": 9,
   "metadata": {},
   "outputs": [
    {
     "name": "stdout",
     "output_type": "stream",
     "text": [
      "['Balance_Limit_V1', 'Gender', 'EDUCATION_STATUS', 'MARITAL_STATUS', 'AGE', 'PAY_JULY', 'PAY_AUG', 'PAY_SEP', 'PAY_OCT', 'PAY_NOV', 'PAY_DEC', 'DUE_AMT_AUG', 'PAID_AMT_JULY', 'PAID_AMT_AUG', 'PAID_AMT_SEP', 'PAID_AMT_OCT', 'PAID_AMT_NOV', 'PAID_AMT_DEC', 'Ability_to_pay_AUG', 'Ability_to_pay_SEP', 'Ability_to_pay_OCT', 'Ability_to_pay_NOV', 'Ability_to_pay_DEC', 'AVG_PAID_AMT', 'NEXT_MONTH_DEFAULT']\n"
     ]
    }
   ],
   "source": [
    "#getting column names\n",
    "col_names = list(training_data.columns)\n",
    "print(col_names)"
   ]
  },
  {
   "cell_type": "code",
   "execution_count": 10,
   "metadata": {},
   "outputs": [],
   "source": [
    "life_col =  ['Balance_Limit_V1', 'Gender', 'EDUCATION_STATUS', 'MARITAL_STATUS', 'AGE','NEXT_MONTH_DEFAULT']\n",
    "amount_col = list(set(col_names)-set(life_col)) + ['NEXT_MONTH_DEFAULT']"
   ]
  },
  {
   "cell_type": "code",
   "execution_count": 11,
   "metadata": {},
   "outputs": [],
   "source": [
    "training_x_life = training_data.drop(amount_col,1)\n",
    "training_y_life = training_data['NEXT_MONTH_DEFAULT']"
   ]
  },
  {
   "cell_type": "code",
   "execution_count": 12,
   "metadata": {},
   "outputs": [
    {
     "data": {
      "text/html": [
       "<div>\n",
       "<style scoped>\n",
       "    .dataframe tbody tr th:only-of-type {\n",
       "        vertical-align: middle;\n",
       "    }\n",
       "\n",
       "    .dataframe tbody tr th {\n",
       "        vertical-align: top;\n",
       "    }\n",
       "\n",
       "    .dataframe thead th {\n",
       "        text-align: right;\n",
       "    }\n",
       "</style>\n",
       "<table border=\"1\" class=\"dataframe\">\n",
       "  <thead>\n",
       "    <tr style=\"text-align: right;\">\n",
       "      <th></th>\n",
       "      <th>Balance_Limit_V1</th>\n",
       "      <th>Gender</th>\n",
       "      <th>EDUCATION_STATUS</th>\n",
       "      <th>MARITAL_STATUS</th>\n",
       "      <th>AGE</th>\n",
       "    </tr>\n",
       "    <tr>\n",
       "      <th>Client_ID</th>\n",
       "      <th></th>\n",
       "      <th></th>\n",
       "      <th></th>\n",
       "      <th></th>\n",
       "      <th></th>\n",
       "    </tr>\n",
       "  </thead>\n",
       "  <tbody>\n",
       "    <tr>\n",
       "      <td>A2</td>\n",
       "      <td>1000000</td>\n",
       "      <td>0</td>\n",
       "      <td>0</td>\n",
       "      <td>1</td>\n",
       "      <td>1</td>\n",
       "    </tr>\n",
       "    <tr>\n",
       "      <td>A3</td>\n",
       "      <td>1000000</td>\n",
       "      <td>1</td>\n",
       "      <td>1</td>\n",
       "      <td>1</td>\n",
       "      <td>0</td>\n",
       "    </tr>\n",
       "    <tr>\n",
       "      <td>A4</td>\n",
       "      <td>100000</td>\n",
       "      <td>1</td>\n",
       "      <td>1</td>\n",
       "      <td>0</td>\n",
       "      <td>1</td>\n",
       "    </tr>\n",
       "    <tr>\n",
       "      <td>A5</td>\n",
       "      <td>200000</td>\n",
       "      <td>1</td>\n",
       "      <td>0</td>\n",
       "      <td>0</td>\n",
       "      <td>1</td>\n",
       "    </tr>\n",
       "    <tr>\n",
       "      <td>A6</td>\n",
       "      <td>1000000</td>\n",
       "      <td>1</td>\n",
       "      <td>0</td>\n",
       "      <td>1</td>\n",
       "      <td>1</td>\n",
       "    </tr>\n",
       "  </tbody>\n",
       "</table>\n",
       "</div>"
      ],
      "text/plain": [
       "           Balance_Limit_V1  Gender  EDUCATION_STATUS  MARITAL_STATUS  AGE\n",
       "Client_ID                                                                 \n",
       "A2                  1000000       0                 0               1    1\n",
       "A3                  1000000       1                 1               1    0\n",
       "A4                   100000       1                 1               0    1\n",
       "A5                   200000       1                 0               0    1\n",
       "A6                  1000000       1                 0               1    1"
      ]
     },
     "execution_count": 12,
     "metadata": {},
     "output_type": "execute_result"
    }
   ],
   "source": [
    "training_x_life.head()"
   ]
  },
  {
   "cell_type": "code",
   "execution_count": 13,
   "metadata": {},
   "outputs": [],
   "source": [
    "x_train, x_test, y_train, y_test = train_test_split(training_x_life, training_y_life, test_size = 0.2)"
   ]
  },
  {
   "cell_type": "code",
   "execution_count": 14,
   "metadata": {},
   "outputs": [],
   "source": [
    "from sklearn.ensemble import AdaBoostClassifier\n",
    "from sklearn.tree import DecisionTreeClassifier\n",
    "from sklearn.metrics import classification_report, confusion_matrix, accuracy_score\n",
    "\n",
    "ada_clf_life = AdaBoostClassifier(\n",
    "             DecisionTreeClassifier(max_depth=10), n_estimators=100,\n",
    "             algorithm=\"SAMME.R\", learning_rate=0.5\n",
    "         )\n",
    "\n",
    "ada_clf_life.fit(x_train, y_train)\n",
    "y_pred_life = ada_clf_life.predict(x_test)"
   ]
  },
  {
   "cell_type": "code",
   "execution_count": 15,
   "metadata": {},
   "outputs": [
    {
     "data": {
      "text/plain": [
       "0.7779166666666667"
      ]
     },
     "execution_count": 15,
     "metadata": {},
     "output_type": "execute_result"
    }
   ],
   "source": [
    "accuracy_score(y_test,y_pred_life)"
   ]
  },
  {
   "cell_type": "code",
   "execution_count": 16,
   "metadata": {},
   "outputs": [
    {
     "name": "stdout",
     "output_type": "stream",
     "text": [
      "              precision    recall  f1-score   support\n",
      "\n",
      "           0       0.78      0.99      0.87      3747\n",
      "           1       0.26      0.01      0.01      1053\n",
      "\n",
      "    accuracy                           0.78      4800\n",
      "   macro avg       0.52      0.50      0.44      4800\n",
      "weighted avg       0.67      0.78      0.69      4800\n",
      "\n"
     ]
    }
   ],
   "source": [
    "print(classification_report(y_test,y_pred_life))"
   ]
  },
  {
   "cell_type": "code",
   "execution_count": 17,
   "metadata": {},
   "outputs": [],
   "source": [
    "training_x_amount = training_data.drop(life_col,1)\n",
    "training_y_amount = training_data['NEXT_MONTH_DEFAULT']"
   ]
  },
  {
   "cell_type": "code",
   "execution_count": 18,
   "metadata": {},
   "outputs": [
    {
     "data": {
      "text/html": [
       "<div>\n",
       "<style scoped>\n",
       "    .dataframe tbody tr th:only-of-type {\n",
       "        vertical-align: middle;\n",
       "    }\n",
       "\n",
       "    .dataframe tbody tr th {\n",
       "        vertical-align: top;\n",
       "    }\n",
       "\n",
       "    .dataframe thead th {\n",
       "        text-align: right;\n",
       "    }\n",
       "</style>\n",
       "<table border=\"1\" class=\"dataframe\">\n",
       "  <thead>\n",
       "    <tr style=\"text-align: right;\">\n",
       "      <th></th>\n",
       "      <th>PAY_JULY</th>\n",
       "      <th>PAY_AUG</th>\n",
       "      <th>PAY_SEP</th>\n",
       "      <th>PAY_OCT</th>\n",
       "      <th>PAY_NOV</th>\n",
       "      <th>PAY_DEC</th>\n",
       "      <th>DUE_AMT_AUG</th>\n",
       "      <th>PAID_AMT_JULY</th>\n",
       "      <th>PAID_AMT_AUG</th>\n",
       "      <th>PAID_AMT_SEP</th>\n",
       "      <th>PAID_AMT_OCT</th>\n",
       "      <th>PAID_AMT_NOV</th>\n",
       "      <th>PAID_AMT_DEC</th>\n",
       "      <th>Ability_to_pay_AUG</th>\n",
       "      <th>Ability_to_pay_SEP</th>\n",
       "      <th>Ability_to_pay_OCT</th>\n",
       "      <th>Ability_to_pay_NOV</th>\n",
       "      <th>Ability_to_pay_DEC</th>\n",
       "      <th>AVG_PAID_AMT</th>\n",
       "    </tr>\n",
       "    <tr>\n",
       "      <th>Client_ID</th>\n",
       "      <th></th>\n",
       "      <th></th>\n",
       "      <th></th>\n",
       "      <th></th>\n",
       "      <th></th>\n",
       "      <th></th>\n",
       "      <th></th>\n",
       "      <th></th>\n",
       "      <th></th>\n",
       "      <th></th>\n",
       "      <th></th>\n",
       "      <th></th>\n",
       "      <th></th>\n",
       "      <th></th>\n",
       "      <th></th>\n",
       "      <th></th>\n",
       "      <th></th>\n",
       "      <th></th>\n",
       "      <th></th>\n",
       "    </tr>\n",
       "  </thead>\n",
       "  <tbody>\n",
       "    <tr>\n",
       "      <td>A2</td>\n",
       "      <td>-1</td>\n",
       "      <td>-1</td>\n",
       "      <td>-1</td>\n",
       "      <td>-1</td>\n",
       "      <td>-1</td>\n",
       "      <td>-1</td>\n",
       "      <td>3389</td>\n",
       "      <td>3437</td>\n",
       "      <td>6004</td>\n",
       "      <td>39418</td>\n",
       "      <td>162772</td>\n",
       "      <td>0</td>\n",
       "      <td>538165</td>\n",
       "      <td>2615</td>\n",
       "      <td>33414</td>\n",
       "      <td>123354</td>\n",
       "      <td>-162772</td>\n",
       "      <td>552147</td>\n",
       "      <td>124966.000000</td>\n",
       "    </tr>\n",
       "    <tr>\n",
       "      <td>A3</td>\n",
       "      <td>0</td>\n",
       "      <td>-1</td>\n",
       "      <td>-1</td>\n",
       "      <td>-1</td>\n",
       "      <td>-1</td>\n",
       "      <td>0</td>\n",
       "      <td>151818</td>\n",
       "      <td>151818</td>\n",
       "      <td>46200</td>\n",
       "      <td>43530</td>\n",
       "      <td>80811</td>\n",
       "      <td>942</td>\n",
       "      <td>33666</td>\n",
       "      <td>-105618</td>\n",
       "      <td>16582</td>\n",
       "      <td>37281</td>\n",
       "      <td>-79869</td>\n",
       "      <td>-124590</td>\n",
       "      <td>59494.500000</td>\n",
       "    </tr>\n",
       "    <tr>\n",
       "      <td>A4</td>\n",
       "      <td>4</td>\n",
       "      <td>3</td>\n",
       "      <td>2</td>\n",
       "      <td>2</td>\n",
       "      <td>-2</td>\n",
       "      <td>-2</td>\n",
       "      <td>16082</td>\n",
       "      <td>0</td>\n",
       "      <td>0</td>\n",
       "      <td>0</td>\n",
       "      <td>0</td>\n",
       "      <td>0</td>\n",
       "      <td>0</td>\n",
       "      <td>-16082</td>\n",
       "      <td>-15477</td>\n",
       "      <td>0</td>\n",
       "      <td>0</td>\n",
       "      <td>0</td>\n",
       "      <td>0.000000</td>\n",
       "    </tr>\n",
       "    <tr>\n",
       "      <td>A5</td>\n",
       "      <td>2</td>\n",
       "      <td>0</td>\n",
       "      <td>0</td>\n",
       "      <td>0</td>\n",
       "      <td>0</td>\n",
       "      <td>0</td>\n",
       "      <td>92848</td>\n",
       "      <td>3855</td>\n",
       "      <td>3890</td>\n",
       "      <td>3696</td>\n",
       "      <td>4620</td>\n",
       "      <td>4049</td>\n",
       "      <td>3918</td>\n",
       "      <td>-92848</td>\n",
       "      <td>-95193</td>\n",
       "      <td>-97309</td>\n",
       "      <td>-100353</td>\n",
       "      <td>-102740</td>\n",
       "      <td>4004.666667</td>\n",
       "    </tr>\n",
       "    <tr>\n",
       "      <td>A6</td>\n",
       "      <td>2</td>\n",
       "      <td>2</td>\n",
       "      <td>0</td>\n",
       "      <td>0</td>\n",
       "      <td>0</td>\n",
       "      <td>0</td>\n",
       "      <td>419466</td>\n",
       "      <td>0</td>\n",
       "      <td>20790</td>\n",
       "      <td>16170</td>\n",
       "      <td>17325</td>\n",
       "      <td>16401</td>\n",
       "      <td>17325</td>\n",
       "      <td>-461046</td>\n",
       "      <td>-429785</td>\n",
       "      <td>-435354</td>\n",
       "      <td>-445271</td>\n",
       "      <td>-453899</td>\n",
       "      <td>14668.500000</td>\n",
       "    </tr>\n",
       "  </tbody>\n",
       "</table>\n",
       "</div>"
      ],
      "text/plain": [
       "           PAY_JULY  PAY_AUG  PAY_SEP  PAY_OCT  PAY_NOV  PAY_DEC  DUE_AMT_AUG  \\\n",
       "Client_ID                                                                       \n",
       "A2               -1       -1       -1       -1       -1       -1         3389   \n",
       "A3                0       -1       -1       -1       -1        0       151818   \n",
       "A4                4        3        2        2       -2       -2        16082   \n",
       "A5                2        0        0        0        0        0        92848   \n",
       "A6                2        2        0        0        0        0       419466   \n",
       "\n",
       "           PAID_AMT_JULY  PAID_AMT_AUG  PAID_AMT_SEP  PAID_AMT_OCT  \\\n",
       "Client_ID                                                            \n",
       "A2                  3437          6004         39418        162772   \n",
       "A3                151818         46200         43530         80811   \n",
       "A4                     0             0             0             0   \n",
       "A5                  3855          3890          3696          4620   \n",
       "A6                     0         20790         16170         17325   \n",
       "\n",
       "           PAID_AMT_NOV  PAID_AMT_DEC  Ability_to_pay_AUG  Ability_to_pay_SEP  \\\n",
       "Client_ID                                                                       \n",
       "A2                    0        538165                2615               33414   \n",
       "A3                  942         33666             -105618               16582   \n",
       "A4                    0             0              -16082              -15477   \n",
       "A5                 4049          3918              -92848              -95193   \n",
       "A6                16401         17325             -461046             -429785   \n",
       "\n",
       "           Ability_to_pay_OCT  Ability_to_pay_NOV  Ability_to_pay_DEC  \\\n",
       "Client_ID                                                               \n",
       "A2                     123354             -162772              552147   \n",
       "A3                      37281              -79869             -124590   \n",
       "A4                          0                   0                   0   \n",
       "A5                     -97309             -100353             -102740   \n",
       "A6                    -435354             -445271             -453899   \n",
       "\n",
       "            AVG_PAID_AMT  \n",
       "Client_ID                 \n",
       "A2         124966.000000  \n",
       "A3          59494.500000  \n",
       "A4              0.000000  \n",
       "A5           4004.666667  \n",
       "A6          14668.500000  "
      ]
     },
     "execution_count": 18,
     "metadata": {},
     "output_type": "execute_result"
    }
   ],
   "source": [
    "training_x_amount.head()"
   ]
  },
  {
   "cell_type": "code",
   "execution_count": 19,
   "metadata": {},
   "outputs": [],
   "source": [
    "x_train, x_test, y_train, y_test = train_test_split(training_x_amount, training_y_amount, test_size = 0.2)"
   ]
  },
  {
   "cell_type": "code",
   "execution_count": 20,
   "metadata": {},
   "outputs": [],
   "source": [
    "from sklearn.ensemble import AdaBoostClassifier\n",
    "from sklearn.tree import DecisionTreeClassifier\n",
    "from sklearn.metrics import classification_report, confusion_matrix, accuracy_score\n",
    "\n",
    "ada_clf_amount = AdaBoostClassifier(\n",
    "             DecisionTreeClassifier(max_depth=10), n_estimators=100,\n",
    "             algorithm=\"SAMME.R\", learning_rate=0.5\n",
    "         )\n",
    "\n",
    "ada_clf_amount.fit(x_train, y_train)\n",
    "y_pred_amount = ada_clf_amount.predict(x_test)"
   ]
  },
  {
   "cell_type": "code",
   "execution_count": 21,
   "metadata": {},
   "outputs": [
    {
     "data": {
      "text/plain": [
       "0.7966666666666666"
      ]
     },
     "execution_count": 21,
     "metadata": {},
     "output_type": "execute_result"
    }
   ],
   "source": [
    "accuracy_score(y_test,y_pred_amount)"
   ]
  },
  {
   "cell_type": "code",
   "execution_count": 22,
   "metadata": {},
   "outputs": [
    {
     "name": "stdout",
     "output_type": "stream",
     "text": [
      "              precision    recall  f1-score   support\n",
      "\n",
      "           0       0.83      0.94      0.88      3733\n",
      "           1       0.58      0.31      0.40      1067\n",
      "\n",
      "    accuracy                           0.80      4800\n",
      "   macro avg       0.70      0.62      0.64      4800\n",
      "weighted avg       0.77      0.80      0.77      4800\n",
      "\n"
     ]
    }
   ],
   "source": [
    "print(classification_report(y_test,y_pred_amount))"
   ]
  },
  {
   "cell_type": "code",
   "execution_count": 23,
   "metadata": {},
   "outputs": [],
   "source": [
    "life_pred = ada_clf_life.predict(training_x_life)\n",
    "amount_pred = ada_clf_amount.predict(training_x_amount)"
   ]
  },
  {
   "cell_type": "code",
   "execution_count": 24,
   "metadata": {},
   "outputs": [],
   "source": [
    "all_data = pd.DataFrame({\"Life\" : life_pred,\"Amount\":amount_pred})"
   ]
  },
  {
   "cell_type": "code",
   "execution_count": 25,
   "metadata": {},
   "outputs": [],
   "source": [
    "x_train, x_test, y_train, y_test = train_test_split(all_data, training_y, test_size = 0.2)"
   ]
  },
  {
   "cell_type": "code",
   "execution_count": 26,
   "metadata": {},
   "outputs": [],
   "source": [
    "from sklearn.ensemble import AdaBoostClassifier\n",
    "from sklearn.tree import DecisionTreeClassifier\n",
    "from sklearn.metrics import classification_report, confusion_matrix, accuracy_score\n",
    "\n",
    "ada_clf_all = AdaBoostClassifier(\n",
    "             DecisionTreeClassifier(max_depth=10), n_estimators=100,\n",
    "             algorithm=\"SAMME.R\", learning_rate=0.5\n",
    "         )\n",
    "\n",
    "ada_clf_all.fit(x_train, y_train)\n",
    "y_pred_all = ada_clf_all.predict(x_test)"
   ]
  },
  {
   "cell_type": "code",
   "execution_count": 27,
   "metadata": {},
   "outputs": [
    {
     "data": {
      "text/plain": [
       "0.9452083333333333"
      ]
     },
     "execution_count": 27,
     "metadata": {},
     "output_type": "execute_result"
    }
   ],
   "source": [
    "accuracy_score(y_test,y_pred_all)"
   ]
  },
  {
   "cell_type": "code",
   "execution_count": 28,
   "metadata": {},
   "outputs": [
    {
     "name": "stdout",
     "output_type": "stream",
     "text": [
      "              precision    recall  f1-score   support\n",
      "\n",
      "           0       0.95      0.99      0.97      3733\n",
      "           1       0.94      0.80      0.87      1067\n",
      "\n",
      "    accuracy                           0.95      4800\n",
      "   macro avg       0.94      0.89      0.92      4800\n",
      "weighted avg       0.95      0.95      0.94      4800\n",
      "\n"
     ]
    }
   ],
   "source": [
    "print(classification_report(y_test,y_pred_all))"
   ]
  },
  {
   "cell_type": "code",
   "execution_count": 29,
   "metadata": {},
   "outputs": [],
   "source": [
    "life_col_test =  ['Balance_Limit_V1', 'Gender', 'EDUCATION_STATUS', 'MARITAL_STATUS', 'AGE']\n",
    "amount_col_test = list(set(list(test_data.columns))-set(life_col_test))"
   ]
  },
  {
   "cell_type": "code",
   "execution_count": 30,
   "metadata": {},
   "outputs": [],
   "source": [
    "test_x_life = test_data.drop(amount_col_test,1)\n",
    "test_x_amount = test_data.drop(life_col_test,1)"
   ]
  },
  {
   "cell_type": "code",
   "execution_count": 31,
   "metadata": {},
   "outputs": [],
   "source": [
    "test_life_pred = ada_clf_life.predict(test_x_life)\n",
    "test_amount_pred = ada_clf_amount.predict(test_x_amount)"
   ]
  },
  {
   "cell_type": "code",
   "execution_count": 32,
   "metadata": {},
   "outputs": [],
   "source": [
    "all_data_test = pd.DataFrame({\"Life\" : test_life_pred,\"Amount\":test_amount_pred})"
   ]
  },
  {
   "cell_type": "code",
   "execution_count": 45,
   "metadata": {},
   "outputs": [],
   "source": [
    "test_pred = ada_clf_all.predict(all_data_test)"
   ]
  },
  {
   "cell_type": "code",
   "execution_count": 48,
   "metadata": {},
   "outputs": [
    {
     "data": {
      "text/plain": [
       "708"
      ]
     },
     "execution_count": 48,
     "metadata": {},
     "output_type": "execute_result"
    }
   ],
   "source": [
    "list(test_pred).count(1)"
   ]
  },
  {
   "cell_type": "code",
   "execution_count": 49,
   "metadata": {},
   "outputs": [],
   "source": [
    "test_pred = pd.DataFrame({\"NEXT_MONTH_DEFAULT\":test_pred})"
   ]
  },
  {
   "cell_type": "code",
   "execution_count": 50,
   "metadata": {},
   "outputs": [],
   "source": [
    "test_pred.to_csv(\"Predictions2.csv\")"
   ]
  }
 ],
 "metadata": {
  "kernelspec": {
   "display_name": "Python 3",
   "language": "python",
   "name": "python3"
  },
  "language_info": {
   "codemirror_mode": {
    "name": "ipython",
    "version": 3
   },
   "file_extension": ".py",
   "mimetype": "text/x-python",
   "name": "python",
   "nbconvert_exporter": "python",
   "pygments_lexer": "ipython3",
   "version": "3.7.4"
  }
 },
 "nbformat": 4,
 "nbformat_minor": 4
}
