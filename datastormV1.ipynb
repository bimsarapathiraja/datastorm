{
  "nbformat": 4,
  "nbformat_minor": 0,
  "metadata": {
    "colab": {
      "name": "datastormV1.ipynb",
      "provenance": [],
      "collapsed_sections": []
    },
    "kernelspec": {
      "name": "python3",
      "display_name": "Python 3"
    },
    "accelerator": "GPU"
  },
  "cells": [
    {
      "cell_type": "markdown",
      "metadata": {
        "id": "hzMNxyB5ABbK",
        "colab_type": "text"
      },
      "source": [
        "## Datastorm Initial Round"
      ]
    },
    {
      "cell_type": "markdown",
      "metadata": {
        "id": "PL99kWLtAQgG",
        "colab_type": "text"
      },
      "source": [
        "Dataset consists of 25 Columns namely Client_ID, **Balance_Limit_V1**, Gender,** Education_Status**, Marital_Status, Age, **Payments(July, Aug, Sep, Oct, Nov, Dec), Due_Amount, Paid_Amount**, Next_Month_ Default. I assume bolded values may contribute much more to the next month's default."
      ]
    },
    {
      "cell_type": "code",
      "metadata": {
        "id": "uRJ075CqAHPH",
        "colab_type": "code",
        "colab": {}
      },
      "source": [
        "import pandas as pd"
      ],
      "execution_count": 0,
      "outputs": []
    },
    {
      "cell_type": "code",
      "metadata": {
        "id": "_hngo-7kWHqg",
        "colab_type": "code",
        "colab": {}
      },
      "source": [
        "train_set = pd.read_csv('credit_card_default_train.csv',index_col=0)"
      ],
      "execution_count": 0,
      "outputs": []
    },
    {
      "cell_type": "code",
      "metadata": {
        "id": "MlYbBqFOWtGB",
        "colab_type": "code",
        "colab": {
          "base_uri": "https://localhost:8080/",
          "height": 292
        },
        "outputId": "96a59975-7f38-48f0-88c2-4f1fc318aefa"
      },
      "source": [
        "train_set.head()"
      ],
      "execution_count": 3,
      "outputs": [
        {
          "output_type": "execute_result",
          "data": {
            "text/html": [
              "<div>\n",
              "<style scoped>\n",
              "    .dataframe tbody tr th:only-of-type {\n",
              "        vertical-align: middle;\n",
              "    }\n",
              "\n",
              "    .dataframe tbody tr th {\n",
              "        vertical-align: top;\n",
              "    }\n",
              "\n",
              "    .dataframe thead th {\n",
              "        text-align: right;\n",
              "    }\n",
              "</style>\n",
              "<table border=\"1\" class=\"dataframe\">\n",
              "  <thead>\n",
              "    <tr style=\"text-align: right;\">\n",
              "      <th></th>\n",
              "      <th>Balance_Limit_V1</th>\n",
              "      <th>Gender</th>\n",
              "      <th>EDUCATION_STATUS</th>\n",
              "      <th>MARITAL_STATUS</th>\n",
              "      <th>AGE</th>\n",
              "      <th>PAY_JULY</th>\n",
              "      <th>PAY_AUG</th>\n",
              "      <th>PAY_SEP</th>\n",
              "      <th>PAY_OCT</th>\n",
              "      <th>PAY_NOV</th>\n",
              "      <th>PAY_DEC</th>\n",
              "      <th>DUE_AMT_JULY</th>\n",
              "      <th>DUE_AMT_AUG</th>\n",
              "      <th>DUE_AMT_SEP</th>\n",
              "      <th>DUE_AMT_OCT</th>\n",
              "      <th>DUE_AMT_NOV</th>\n",
              "      <th>DUE_AMT_DEC</th>\n",
              "      <th>PAID_AMT_JULY</th>\n",
              "      <th>PAID_AMT_AUG</th>\n",
              "      <th>PAID_AMT_SEP</th>\n",
              "      <th>PAID_AMT_OCT</th>\n",
              "      <th>PAID_AMT_NOV</th>\n",
              "      <th>PAID_AMT_DEC</th>\n",
              "      <th>NEXT_MONTH_DEFAULT</th>\n",
              "    </tr>\n",
              "    <tr>\n",
              "      <th>Client_ID</th>\n",
              "      <th></th>\n",
              "      <th></th>\n",
              "      <th></th>\n",
              "      <th></th>\n",
              "      <th></th>\n",
              "      <th></th>\n",
              "      <th></th>\n",
              "      <th></th>\n",
              "      <th></th>\n",
              "      <th></th>\n",
              "      <th></th>\n",
              "      <th></th>\n",
              "      <th></th>\n",
              "      <th></th>\n",
              "      <th></th>\n",
              "      <th></th>\n",
              "      <th></th>\n",
              "      <th></th>\n",
              "      <th></th>\n",
              "      <th></th>\n",
              "      <th></th>\n",
              "      <th></th>\n",
              "      <th></th>\n",
              "      <th></th>\n",
              "    </tr>\n",
              "  </thead>\n",
              "  <tbody>\n",
              "    <tr>\n",
              "      <th>A2</th>\n",
              "      <td>1M</td>\n",
              "      <td>M</td>\n",
              "      <td>Graduate</td>\n",
              "      <td>Other</td>\n",
              "      <td>31-45</td>\n",
              "      <td>-1</td>\n",
              "      <td>-1</td>\n",
              "      <td>-1</td>\n",
              "      <td>-1</td>\n",
              "      <td>-1</td>\n",
              "      <td>-1</td>\n",
              "      <td>3248</td>\n",
              "      <td>3389</td>\n",
              "      <td>6004</td>\n",
              "      <td>39418</td>\n",
              "      <td>162772</td>\n",
              "      <td>-13982</td>\n",
              "      <td>3437</td>\n",
              "      <td>6004</td>\n",
              "      <td>39418</td>\n",
              "      <td>162772</td>\n",
              "      <td>0</td>\n",
              "      <td>538165</td>\n",
              "      <td>0</td>\n",
              "    </tr>\n",
              "    <tr>\n",
              "      <th>A3</th>\n",
              "      <td>1M</td>\n",
              "      <td>F</td>\n",
              "      <td>High School</td>\n",
              "      <td>Other</td>\n",
              "      <td>Less than 30</td>\n",
              "      <td>0</td>\n",
              "      <td>-1</td>\n",
              "      <td>-1</td>\n",
              "      <td>-1</td>\n",
              "      <td>-1</td>\n",
              "      <td>0</td>\n",
              "      <td>353351</td>\n",
              "      <td>151818</td>\n",
              "      <td>26948</td>\n",
              "      <td>43530</td>\n",
              "      <td>80811</td>\n",
              "      <td>124590</td>\n",
              "      <td>151818</td>\n",
              "      <td>46200</td>\n",
              "      <td>43530</td>\n",
              "      <td>80811</td>\n",
              "      <td>942</td>\n",
              "      <td>33666</td>\n",
              "      <td>0</td>\n",
              "    </tr>\n",
              "    <tr>\n",
              "      <th>A4</th>\n",
              "      <td>100K</td>\n",
              "      <td>F</td>\n",
              "      <td>High School</td>\n",
              "      <td>Single</td>\n",
              "      <td>31-45</td>\n",
              "      <td>4</td>\n",
              "      <td>3</td>\n",
              "      <td>2</td>\n",
              "      <td>2</td>\n",
              "      <td>-2</td>\n",
              "      <td>-2</td>\n",
              "      <td>16681</td>\n",
              "      <td>16082</td>\n",
              "      <td>15477</td>\n",
              "      <td>0</td>\n",
              "      <td>0</td>\n",
              "      <td>0</td>\n",
              "      <td>0</td>\n",
              "      <td>0</td>\n",
              "      <td>0</td>\n",
              "      <td>0</td>\n",
              "      <td>0</td>\n",
              "      <td>0</td>\n",
              "      <td>1</td>\n",
              "    </tr>\n",
              "    <tr>\n",
              "      <th>A5</th>\n",
              "      <td>200K</td>\n",
              "      <td>F</td>\n",
              "      <td>Graduate</td>\n",
              "      <td>Single</td>\n",
              "      <td>31-45</td>\n",
              "      <td>2</td>\n",
              "      <td>0</td>\n",
              "      <td>0</td>\n",
              "      <td>0</td>\n",
              "      <td>0</td>\n",
              "      <td>0</td>\n",
              "      <td>90457</td>\n",
              "      <td>92848</td>\n",
              "      <td>95193</td>\n",
              "      <td>97309</td>\n",
              "      <td>100353</td>\n",
              "      <td>102740</td>\n",
              "      <td>3855</td>\n",
              "      <td>3890</td>\n",
              "      <td>3696</td>\n",
              "      <td>4620</td>\n",
              "      <td>4049</td>\n",
              "      <td>3918</td>\n",
              "      <td>1</td>\n",
              "    </tr>\n",
              "    <tr>\n",
              "      <th>A6</th>\n",
              "      <td>1M</td>\n",
              "      <td>F</td>\n",
              "      <td>Graduate</td>\n",
              "      <td>Other</td>\n",
              "      <td>31-45</td>\n",
              "      <td>2</td>\n",
              "      <td>2</td>\n",
              "      <td>0</td>\n",
              "      <td>0</td>\n",
              "      <td>0</td>\n",
              "      <td>0</td>\n",
              "      <td>429556</td>\n",
              "      <td>419466</td>\n",
              "      <td>429785</td>\n",
              "      <td>435354</td>\n",
              "      <td>445271</td>\n",
              "      <td>453899</td>\n",
              "      <td>0</td>\n",
              "      <td>20790</td>\n",
              "      <td>16170</td>\n",
              "      <td>17325</td>\n",
              "      <td>16401</td>\n",
              "      <td>17325</td>\n",
              "      <td>0</td>\n",
              "    </tr>\n",
              "  </tbody>\n",
              "</table>\n",
              "</div>"
            ],
            "text/plain": [
              "          Balance_Limit_V1 Gender  ... PAID_AMT_DEC NEXT_MONTH_DEFAULT\n",
              "Client_ID                          ...                                \n",
              "A2                      1M      M  ...       538165                  0\n",
              "A3                      1M      F  ...        33666                  0\n",
              "A4                    100K      F  ...            0                  1\n",
              "A5                    200K      F  ...         3918                  1\n",
              "A6                      1M      F  ...        17325                  0\n",
              "\n",
              "[5 rows x 24 columns]"
            ]
          },
          "metadata": {
            "tags": []
          },
          "execution_count": 3
        }
      ]
    },
    {
      "cell_type": "code",
      "metadata": {
        "id": "6JPdKaAcW2IG",
        "colab_type": "code",
        "colab": {}
      },
      "source": [
        "import matplotlib.pyplot as plt"
      ],
      "execution_count": 0,
      "outputs": []
    },
    {
      "cell_type": "code",
      "metadata": {
        "id": "uwe4hs2rX6mE",
        "colab_type": "code",
        "colab": {
          "base_uri": "https://localhost:8080/",
          "height": 314
        },
        "outputId": "1c3f4d98-b9dc-4402-ff41-d6c575616ddf"
      },
      "source": [
        "colors = {'M':'r', 'F':'g'}\n",
        "x_axis = 'DUE_AMT_DEC'\n",
        "y_axis = 'PAID_AMT_DEC'\n",
        "color_axis = 'Gender'\n",
        "fig,ax = plt.subplots()\n",
        "for i in range(len(train_set[x_axis])):\n",
        "  ax.scatter(train_set[x_axis][i], train_set[y_axis][i],color = colors[train_set[color_axis][i]])\n",
        "ax.set_title(x_axis + \" vs. \" + y_axis)\n",
        "ax.set_xlabel(x_axis)\n",
        "ax.set_ylabel(y_axis)"
      ],
      "execution_count": 6,
      "outputs": [
        {
          "output_type": "execute_result",
          "data": {
            "text/plain": [
              "Text(0, 0.5, 'PAID_AMT_DEC')"
            ]
          },
          "metadata": {
            "tags": []
          },
          "execution_count": 6
        },
        {
          "output_type": "display_data",
          "data": {
            "image/png": "[encoded data removed]",
            "text/plain": [
              "<Figure size 432x288 with 1 Axes>"
            ]
          },
          "metadata": {
            "tags": []
          }
        }
      ]
    },
    {
      "cell_type": "markdown",
      "metadata": {
        "id": "XFGgnfq-d1i7",
        "colab_type": "text"
      },
      "source": [
        "As you can see Males(Red) Tends to have Large amount of Dues and Paid amounts when compared to the Females(Green)."
      ]
    },
    {
      "cell_type": "markdown",
      "metadata": {
        "id": "BkDN1US6z6r5",
        "colab_type": "text"
      },
      "source": [
        "It seems that Gender doesnt play a huge role in deciding the defaults"
      ]
    },
    {
      "cell_type": "code",
      "metadata": {
        "id": "wixZtKP-0Ilc",
        "colab_type": "code",
        "colab": {}
      },
      "source": [
        ""
      ],
      "execution_count": 0,
      "outputs": []
    }
  ]
}