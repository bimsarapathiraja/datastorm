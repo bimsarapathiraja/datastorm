{
  "nbformat": 4,
  "nbformat_minor": 0,
  "metadata": {
    "colab": {
      "name": "GradientBoosting.ipynb",
      "provenance": [],
      "collapsed_sections": [],
      "include_colab_link": true
    },
    "kernelspec": {
      "name": "python3",
      "display_name": "Python 3"
    },
    "accelerator": "GPU"
  },
  "cells": [
    {
      "cell_type": "markdown",
      "metadata": {
        "id": "view-in-github",
        "colab_type": "text"
      },
      "source": [
        "<a href=\"https://colab.research.google.com/github/bimsarapathiraja/datastorm/blob/master/day2/GradientBoosting.ipynb\" target=\"_parent\"><img src=\"https://colab.research.google.com/assets/colab-badge.svg\" alt=\"Open In Colab\"/></a>"
      ]
    },
    {
      "cell_type": "code",
      "metadata": {
        "id": "ZLGQKgfKkKfi",
        "colab_type": "code",
        "outputId": "4515ecaa-a251-468a-ef51-16aea33f7e60",
        "colab": {
          "base_uri": "https://localhost:8080/",
          "height": 126
        }
      },
      "source": [
        "from google.colab import drive\n",
        "drive.mount('/content/gdrive') #mounting gdrive   "
      ],
      "execution_count": 5,
      "outputs": [
        {
          "output_type": "stream",
          "text": [
            "Go to this URL in a browser: https://accounts.google.com/o/oauth2/auth?client_id=947318989803-6bn6qk8qdgf4n4g3pfee6491hc0brc4i.apps.googleusercontent.com&redirect_uri=urn%3aietf%3awg%3aoauth%3a2.0%3aoob&response_type=code&scope=email%20https%3a%2f%2fwww.googleapis.com%2fauth%2fdocs.test%20https%3a%2f%2fwww.googleapis.com%2fauth%2fdrive%20https%3a%2f%2fwww.googleapis.com%2fauth%2fdrive.photos.readonly%20https%3a%2f%2fwww.googleapis.com%2fauth%2fpeopleapi.readonly\n",
            "\n",
            "Enter your authorization code:\n",
            "··········\n",
            "Mounted at /content/gdrive\n"
          ],
          "name": "stdout"
        }
      ]
    },
    {
      "cell_type": "code",
      "metadata": {
        "id": "fRl1XLSnlQpg",
        "colab_type": "code",
        "outputId": "74f924e8-8789-4918-8962-243373c7e3e3",
        "colab": {
          "base_uri": "https://localhost:8080/",
          "height": 35
        }
      },
      "source": [
        "cd gdrive/My\\ Drive"
      ],
      "execution_count": 6,
      "outputs": [
        {
          "output_type": "stream",
          "text": [
            "/content/gdrive/My Drive\n"
          ],
          "name": "stdout"
        }
      ]
    },
    {
      "cell_type": "code",
      "metadata": {
        "id": "RiPtsiDiJXxi",
        "colab_type": "code",
        "colab": {}
      },
      "source": [
        "import numpy as np\n",
        "import pandas as pd\n",
        "\n",
        "from sklearn import preprocessing\n",
        "from sklearn.preprocessing import MinMaxScaler, StandardScaler,Normalizer #Normalizer scaler was the best option"
      ],
      "execution_count": 0,
      "outputs": []
    },
    {
      "cell_type": "code",
      "metadata": {
        "id": "gO34XHdzMXlL",
        "colab_type": "code",
        "colab": {}
      },
      "source": [
        "data = pd.read_csv('data-storm-10/credit_card_default_train.csv') #loading the training dataset"
      ],
      "execution_count": 0,
      "outputs": []
    },
    {
      "cell_type": "code",
      "metadata": {
        "id": "OgJEPYiWMdfB",
        "colab_type": "code",
        "colab": {}
      },
      "source": [
        "X = data.drop('NEXT_MONTH_DEFAULT', 1)\n",
        "y = data['NEXT_MONTH_DEFAULT']\n",
        "\n",
        "X = X.drop('Client_ID', 1)\n",
        "\n",
        "xdata = pd.read_csv('data-storm-10/credit_card_default_test.csv')\n",
        "test = xdata.drop('Client_ID', 1)\n",
        "test_id = xdata['Client_ID']"
      ],
      "execution_count": 0,
      "outputs": []
    },
    {
      "cell_type": "code",
      "metadata": {
        "id": "4dMWjbnzMhZ0",
        "colab_type": "code",
        "outputId": "11eb3909-4651-4744-e0d8-b4e6bb04e18d",
        "colab": {
          "base_uri": "https://localhost:8080/",
          "height": 35
        }
      },
      "source": [
        "data_comp = X.append(test) #combining training and test\n",
        "data_comp.shape"
      ],
      "execution_count": 10,
      "outputs": [
        {
          "output_type": "execute_result",
          "data": {
            "text/plain": [
              "(30000, 23)"
            ]
          },
          "metadata": {
            "tags": []
          },
          "execution_count": 10
        }
      ]
    },
    {
      "cell_type": "code",
      "metadata": {
        "id": "vrcA64kVMiyq",
        "colab_type": "code",
        "colab": {}
      },
      "source": [
        "data_comp['Balance_Limit_V1'] = data_comp['Balance_Limit_V1'].map({'100K': 100000, '200K': 200000, '300K': 300000, '400K': 400000, ' 500K': 500000, '1M': 1000000, '1.5M': 1500000, '2.5M': 2500000})\n",
        "#mapping values"
      ],
      "execution_count": 0,
      "outputs": []
    },
    {
      "cell_type": "code",
      "metadata": {
        "id": "x-ptDYkyMlN0",
        "colab_type": "code",
        "colab": {}
      },
      "source": [
        "data_comp[['Balance_Limit_V1', 'PAY_JULY', 'PAY_AUG', 'PAY_SEP', 'PAY_OCT', 'PAY_NOV',\n",
        "       'PAY_DEC', 'DUE_AMT_JULY', 'DUE_AMT_AUG', 'DUE_AMT_SEP', 'DUE_AMT_OCT',\n",
        "       'DUE_AMT_NOV', 'DUE_AMT_DEC', 'PAID_AMT_JULY', 'PAID_AMT_AUG',\n",
        "       'PAID_AMT_SEP', 'PAID_AMT_OCT', 'PAID_AMT_NOV', 'PAID_AMT_DEC']] = preprocessing.scale(data_comp[['Balance_Limit_V1', 'PAY_JULY', 'PAY_AUG', 'PAY_SEP', 'PAY_OCT', 'PAY_NOV',\n",
        "       'PAY_DEC', 'DUE_AMT_JULY', 'DUE_AMT_AUG', 'DUE_AMT_SEP', 'DUE_AMT_OCT',\n",
        "       'DUE_AMT_NOV', 'DUE_AMT_DEC', 'PAID_AMT_JULY', 'PAID_AMT_AUG',\n",
        "       'PAID_AMT_SEP', 'PAID_AMT_OCT', 'PAID_AMT_NOV', 'PAID_AMT_DEC']]) #scaling"
      ],
      "execution_count": 0,
      "outputs": []
    },
    {
      "cell_type": "code",
      "metadata": {
        "id": "Kac6ja8DMolM",
        "colab_type": "code",
        "colab": {}
      },
      "source": [
        "data_comp = pd.get_dummies(data_comp,columns=['Gender', 'EDUCATION_STATUS', 'MARITAL_STATUS',\n",
        "       'AGE']) #one hot encoding"
      ],
      "execution_count": 0,
      "outputs": []
    },
    {
      "cell_type": "code",
      "metadata": {
        "id": "GY4jrYmCMr99",
        "colab_type": "code",
        "colab": {}
      },
      "source": [
        "X = data_comp.iloc[:len(X)]\n",
        "test = data_comp.iloc[len(X):] "
      ],
      "execution_count": 0,
      "outputs": []
    },
    {
      "cell_type": "code",
      "metadata": {
        "id": "QAOosehXqltj",
        "colab_type": "code",
        "colab": {
          "base_uri": "https://localhost:8080/",
          "height": 35
        },
        "outputId": "182f220b-9055-4754-8830-e2cec925f046"
      },
      "source": [
        "X.shape"
      ],
      "execution_count": 15,
      "outputs": [
        {
          "output_type": "execute_result",
          "data": {
            "text/plain": [
              "(24000, 30)"
            ]
          },
          "metadata": {
            "tags": []
          },
          "execution_count": 15
        }
      ]
    },
    {
      "cell_type": "code",
      "metadata": {
        "id": "zEhiTHOQQz8o",
        "colab_type": "code",
        "colab": {}
      },
      "source": [
        "from sklearn.model_selection import train_test_split\n",
        "X_train, X_test, y_train, y_test = train_test_split(X, y, test_size = .2) #train test dataset splitting"
      ],
      "execution_count": 0,
      "outputs": []
    },
    {
      "cell_type": "code",
      "metadata": {
        "id": "7phDM4FyMwAX",
        "colab_type": "code",
        "outputId": "e715ba8e-85cd-4346-83a0-86edee13a923",
        "colab": {
          "base_uri": "https://localhost:8080/",
          "height": 178
        }
      },
      "source": [
        "from sklearn.linear_model import LogisticRegression #trying different models\n",
        "from sklearn.tree import DecisionTreeClassifier\n",
        "from sklearn.ensemble import RandomForestClassifier\n",
        "from sklearn.ensemble import GradientBoostingClassifier\n",
        "from sklearn.ensemble import AdaBoostClassifier\n",
        "from sklearn.ensemble import ExtraTreesClassifier\n",
        "from sklearn.neighbors import KNeighborsClassifier\n",
        "from sklearn.svm import SVC\n",
        "from sklearn.naive_bayes import GaussianNB\n",
        "#from sklearn.model_selection import KFold\n",
        "from sklearn.metrics import accuracy_score\n",
        "\n",
        "classifiers=[['Logistic Regression :',LogisticRegression(max_iter = 1500)],\n",
        "       ['Decision Tree Classification :',DecisionTreeClassifier()],\n",
        "       ['Gradient Boosting Classification :', GradientBoostingClassifier()],\n",
        "       ['Ada Boosting Classification :',AdaBoostClassifier()],\n",
        "       ['RandomForest Classification :',AdaBoostClassifier()],\n",
        "       ['Extra Tree Classification :', ExtraTreesClassifier()],\n",
        "       ['K-Neighbors Classification :',KNeighborsClassifier()],\n",
        "       ['Support Vector Classification :',SVC()],\n",
        "       ['Gaussian Naive Bayes :',GaussianNB()]]\n",
        "cla_pred=[]\n",
        "for name,model in classifiers:\n",
        "    model=model\n",
        "    model.fit(X_train,y_train)\n",
        "    predictions = model.predict(X_test)\n",
        "    cla_pred.append(accuracy_score(y_test,predictions))\n",
        "    print(name,accuracy_score(y_test,predictions))"
      ],
      "execution_count": 17,
      "outputs": [
        {
          "output_type": "stream",
          "text": [
            "Logistic Regression : 0.80875\n",
            "Decision Tree Classification : 0.7164583333333333\n",
            "Gradient Boosting Classification : 0.8214583333333333\n",
            "Ada Boosting Classification : 0.8175\n",
            "RandomForest Classification : 0.8175\n",
            "Extra Tree Classification : 0.8122916666666666\n",
            "K-Neighbors Classification : 0.7902083333333333\n",
            "Support Vector Classification : 0.82\n",
            "Gaussian Naive Bayes : 0.6695833333333333\n"
          ],
          "name": "stdout"
        }
      ]
    },
    {
      "cell_type": "code",
      "metadata": {
        "id": "gVdtu7wL8ei7",
        "colab_type": "code",
        "colab": {
          "base_uri": "https://localhost:8080/",
          "height": 35
        },
        "outputId": "ccc32db3-9de2-4c1d-be47-ab0096d83a56"
      },
      "source": [
        "gbmodel = GradientBoostingClassifier() #using the best parameters\n",
        "gbmodel.fit(X_train, y_train)\n",
        "predictions = gbmodel.predict(X_test)\n",
        "print(accuracy_score(y_test,predictions))"
      ],
      "execution_count": 18,
      "outputs": [
        {
          "output_type": "stream",
          "text": [
            "0.8214583333333333\n"
          ],
          "name": "stdout"
        }
      ]
    },
    {
      "cell_type": "code",
      "metadata": {
        "id": "KQWS6QdPObVc",
        "colab_type": "code",
        "colab": {
          "base_uri": "https://localhost:8080/",
          "height": 231
        },
        "outputId": "c216bc58-39b8-4df4-9a95-e5fd9bd0c48a"
      },
      "source": [
        "from sklearn.metrics import classification_report,confusion_matrix #evaluating the model\n",
        "print(confusion_matrix(y_test,predictions))\n",
        "print(classification_report(y_test,predictions))\n",
        "print(accuracy_score(y_test,predictions))"
      ],
      "execution_count": 19,
      "outputs": [
        {
          "output_type": "stream",
          "text": [
            "[[3527  211]\n",
            " [ 646  416]]\n",
            "              precision    recall  f1-score   support\n",
            "\n",
            "           0       0.85      0.94      0.89      3738\n",
            "           1       0.66      0.39      0.49      1062\n",
            "\n",
            "    accuracy                           0.82      4800\n",
            "   macro avg       0.75      0.67      0.69      4800\n",
            "weighted avg       0.80      0.82      0.80      4800\n",
            "\n",
            "0.8214583333333333\n"
          ],
          "name": "stdout"
        }
      ]
    },
    {
      "cell_type": "code",
      "metadata": {
        "id": "MugbwyX2Og91",
        "colab_type": "code",
        "colab": {
          "base_uri": "https://localhost:8080/",
          "height": 71
        },
        "outputId": "5fafaa26-59f1-4607-9a38-063e7a88c46e"
      },
      "source": [
        "pred = gbmodel.predict(test)\n",
        "submission = pd.DataFrame({\n",
        "    'Client_ID': test_id,\n",
        "    'NEXT_MONTH_DEFAULT': pred\n",
        "})\n",
        "print(submission.NEXT_MONTH_DEFAULT.value_counts())\n",
        "submission.to_csv('submission.csv', index = False)"
      ],
      "execution_count": 20,
      "outputs": [
        {
          "output_type": "stream",
          "text": [
            "0    5296\n",
            "1     704\n",
            "Name: NEXT_MONTH_DEFAULT, dtype: int64\n"
          ],
          "name": "stdout"
        }
      ]
    },
    {
      "cell_type": "code",
      "metadata": {
        "id": "ZoBIuqZwqbON",
        "colab_type": "code",
        "colab": {}
      },
      "source": [
        ""
      ],
      "execution_count": 0,
      "outputs": []
    }
  ]
}